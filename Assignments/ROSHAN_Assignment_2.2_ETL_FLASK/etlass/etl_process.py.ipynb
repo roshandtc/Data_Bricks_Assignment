{
 "cells": [
  {
   "cell_type": "code",
   "execution_count": 1,
   "id": "2ca88bc5",
   "metadata": {},
   "outputs": [
    {
     "name": "stdout",
     "output_type": "stream",
     "text": [
      "Requirement already satisfied: pandas in c:\\users\\hp\\anaconda3\\lib\\site-packages (1.5.3)\n",
      "Requirement already satisfied: seaborn in c:\\users\\hp\\anaconda3\\lib\\site-packages (0.12.2)\n",
      "Requirement already satisfied: sqlalchemy in c:\\users\\hp\\anaconda3\\lib\\site-packages (1.4.39)\n",
      "Requirement already satisfied: python-dateutil>=2.8.1 in c:\\users\\hp\\anaconda3\\lib\\site-packages (from pandas) (2.8.2)\n",
      "Requirement already satisfied: pytz>=2020.1 in c:\\users\\hp\\anaconda3\\lib\\site-packages (from pandas) (2022.7)\n",
      "Requirement already satisfied: numpy>=1.21.0 in c:\\users\\hp\\anaconda3\\lib\\site-packages (from pandas) (1.24.3)\n",
      "Requirement already satisfied: matplotlib!=3.6.1,>=3.1 in c:\\users\\hp\\anaconda3\\lib\\site-packages (from seaborn) (3.7.1)\n",
      "Requirement already satisfied: greenlet!=0.4.17 in c:\\users\\hp\\anaconda3\\lib\\site-packages (from sqlalchemy) (2.0.1)\n",
      "Requirement already satisfied: contourpy>=1.0.1 in c:\\users\\hp\\anaconda3\\lib\\site-packages (from matplotlib!=3.6.1,>=3.1->seaborn) (1.0.5)\n",
      "Requirement already satisfied: cycler>=0.10 in c:\\users\\hp\\anaconda3\\lib\\site-packages (from matplotlib!=3.6.1,>=3.1->seaborn) (0.11.0)\n",
      "Requirement already satisfied: fonttools>=4.22.0 in c:\\users\\hp\\anaconda3\\lib\\site-packages (from matplotlib!=3.6.1,>=3.1->seaborn) (4.25.0)\n",
      "Requirement already satisfied: kiwisolver>=1.0.1 in c:\\users\\hp\\anaconda3\\lib\\site-packages (from matplotlib!=3.6.1,>=3.1->seaborn) (1.4.4)\n",
      "Requirement already satisfied: packaging>=20.0 in c:\\users\\hp\\anaconda3\\lib\\site-packages (from matplotlib!=3.6.1,>=3.1->seaborn) (23.0)\n",
      "Requirement already satisfied: pillow>=6.2.0 in c:\\users\\hp\\anaconda3\\lib\\site-packages (from matplotlib!=3.6.1,>=3.1->seaborn) (9.4.0)\n",
      "Requirement already satisfied: pyparsing>=2.3.1 in c:\\users\\hp\\anaconda3\\lib\\site-packages (from matplotlib!=3.6.1,>=3.1->seaborn) (3.0.9)\n",
      "Requirement already satisfied: six>=1.5 in c:\\users\\hp\\anaconda3\\lib\\site-packages (from python-dateutil>=2.8.1->pandas) (1.16.0)\n",
      "Note: you may need to restart the kernel to use updated packages.\n"
     ]
    }
   ],
   "source": [
    "#pip install pandas seaborn sqlalchemy"
   ]
  },
  {
   "cell_type": "code",
   "execution_count": 15,
   "id": "91527197",
   "metadata": {},
   "outputs": [],
   "source": [
    "import pandas as pd\n",
    "import seaborn as sns\n",
    "from sqlalchemy import create_engine"
   ]
  },
  {
   "cell_type": "code",
   "execution_count": 3,
   "id": "9c5b5f60",
   "metadata": {},
   "outputs": [],
   "source": [
    "# Step 1: Load datasets\n",
    "iris_df = sns.load_dataset('iris')\n",
    "tips_df = sns.load_dataset('tips')"
   ]
  },
  {
   "cell_type": "code",
   "execution_count": 4,
   "id": "03d4a96a",
   "metadata": {},
   "outputs": [],
   "source": [
    "# Step 2: Handle missing data\n",
    "iris_df.dropna(inplace=True)\n",
    "tips_df.dropna(inplace=True)"
   ]
  },
  {
   "cell_type": "code",
   "execution_count": 5,
   "id": "f82a6f7f",
   "metadata": {},
   "outputs": [],
   "source": [
    "# Step 3: Create a new column \"tip_percentage\" for the \"tips\" dataset\n",
    "tips_df['tip_percentage'] = tips_df['tip'] / tips_df['total_bill']"
   ]
  },
  {
   "cell_type": "code",
   "execution_count": 6,
   "id": "3bb5d282",
   "metadata": {},
   "outputs": [],
   "source": [
    "# Step 4: Calculate the average of each numeric feature for each species of iris flowers\n",
    "iris_avg_df = iris_df.groupby('species').mean().reset_index()"
   ]
  },
  {
   "cell_type": "code",
   "execution_count": 7,
   "id": "7d5e5195",
   "metadata": {},
   "outputs": [
    {
     "data": {
      "text/plain": [
       "244"
      ]
     },
     "execution_count": 7,
     "metadata": {},
     "output_type": "execute_result"
    }
   ],
   "source": [
    "# Step 5: Load datasets into a new SQLite database\n",
    "engine = create_engine('sqlite:///etl_database.db')\n",
    "iris_avg_df.to_sql('iris_data', engine, if_exists='replace', index=False)\n",
    "tips_df.to_sql('tips_data', engine, if_exists='replace', index=False)"
   ]
  },
  {
   "cell_type": "code",
   "execution_count": 8,
   "id": "9617f6d8",
   "metadata": {},
   "outputs": [
    {
     "name": "stdout",
     "output_type": "stream",
     "text": [
      "Iris dataset with average values:\n",
      "      species  sepal_length  sepal_width  petal_length  petal_width\n",
      "0      setosa         5.006        3.428         1.462        0.246\n",
      "1  versicolor         5.936        2.770         4.260        1.326\n",
      "2   virginica         6.588        2.974         5.552        2.026\n"
     ]
    }
   ],
   "source": [
    "# Step 6: Print the results\n",
    "print(\"Iris dataset with average values:\")\n",
    "print(iris_avg_df)"
   ]
  },
  {
   "cell_type": "code",
   "execution_count": 9,
   "id": "bd2fa22c",
   "metadata": {
    "scrolled": true
   },
   "outputs": [
    {
     "name": "stdout",
     "output_type": "stream",
     "text": [
      "\n",
      "Tips dataset with tip_percentage column:\n",
      "     total_bill   tip     sex smoker   day    time  size  tip_percentage\n",
      "0         16.99  1.01  Female     No   Sun  Dinner     2        0.059447\n",
      "1         10.34  1.66    Male     No   Sun  Dinner     3        0.160542\n",
      "2         21.01  3.50    Male     No   Sun  Dinner     3        0.166587\n",
      "3         23.68  3.31    Male     No   Sun  Dinner     2        0.139780\n",
      "4         24.59  3.61  Female     No   Sun  Dinner     4        0.146808\n",
      "..          ...   ...     ...    ...   ...     ...   ...             ...\n",
      "239       29.03  5.92    Male     No   Sat  Dinner     3        0.203927\n",
      "240       27.18  2.00  Female    Yes   Sat  Dinner     2        0.073584\n",
      "241       22.67  2.00    Male    Yes   Sat  Dinner     2        0.088222\n",
      "242       17.82  1.75    Male     No   Sat  Dinner     2        0.098204\n",
      "243       18.78  3.00  Female     No  Thur  Dinner     2        0.159744\n",
      "\n",
      "[244 rows x 8 columns]\n"
     ]
    }
   ],
   "source": [
    "print(\"\\nTips dataset with tip_percentage column:\")\n",
    "print(tips_df)"
   ]
  },
  {
   "cell_type": "code",
   "execution_count": 10,
   "id": "dd6bd1df",
   "metadata": {
    "scrolled": true
   },
   "outputs": [],
   "source": [
    "import sqlite3"
   ]
  },
  {
   "cell_type": "code",
   "execution_count": 11,
   "id": "1762fa66",
   "metadata": {},
   "outputs": [],
   "source": [
    "connection = sqlite3.connect('etl_database.db')"
   ]
  },
  {
   "cell_type": "code",
   "execution_count": 12,
   "id": "62b7da69",
   "metadata": {},
   "outputs": [
    {
     "data": {
      "text/plain": [
       "<sqlite3.Cursor at 0x185343c8f40>"
      ]
     },
     "execution_count": 12,
     "metadata": {},
     "output_type": "execute_result"
    }
   ],
   "source": [
    "create_sql= \" CREATE TABLE IF NOT EXISTS tips(total_bill REAL,tip REAL, sex TEXT ,smoker TEXT, day TEXT ,time TEXT, size INTEGER,tip_percentage REAL)\"\n",
    "cur=connection.cursor()\n",
    "cur.execute(create_sql)"
   ]
  },
  {
   "cell_type": "code",
   "execution_count": 13,
   "id": "c224f565",
   "metadata": {},
   "outputs": [
    {
     "data": {
      "text/plain": [
       "244"
      ]
     },
     "execution_count": 13,
     "metadata": {},
     "output_type": "execute_result"
    }
   ],
   "source": [
    "iris_df.to_sql(name='iris',con=connection,if_exists='replace',index=False)\n",
    "tips_df.to_sql(name='tips',con=connection,if_exists='replace',index=False)"
   ]
  },
  {
   "cell_type": "code",
   "execution_count": 14,
   "id": "0c27c64b",
   "metadata": {},
   "outputs": [],
   "source": [
    "connection.close()"
   ]
  },
  {
   "cell_type": "code",
   "execution_count": null,
   "id": "221acb2c",
   "metadata": {},
   "outputs": [],
   "source": [
    "\"\"\"iris_html = iris_df.to_html(index=False)\n",
    "tips_html = tips_df.to_html(index=False)\n",
    "\n",
    "with open(\"iris.html\", \"w\") as f:\n",
    "    f.write(\"<html><body>\")\n",
    "    f.write(\"<h1>Iris Dataset</h1>\")\n",
    "    f.write(iris_html)\n",
    "    f.write(\"</body></html>\")\n",
    "\n",
    "with open(\"tips.html\", \"w\") as f:\n",
    "    f.write(\"<html><body>\")\n",
    "    f.write(\"<h1>Tips Dataset</h1>\")\n",
    "    f.write(tips_html)\n",
    "    f.write(\"</body></html>\")"
   ]
  }
 ],
 "metadata": {
  "kernelspec": {
   "display_name": "Python 3 (ipykernel)",
   "language": "python",
   "name": "python3"
  },
  "language_info": {
   "codemirror_mode": {
    "name": "ipython",
    "version": 3
   },
   "file_extension": ".py",
   "mimetype": "text/x-python",
   "name": "python",
   "nbconvert_exporter": "python",
   "pygments_lexer": "ipython3",
   "version": "3.11.3"
  }
 },
 "nbformat": 4,
 "nbformat_minor": 5
}
